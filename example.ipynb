{
 "cells": [
  {
   "cell_type": "code",
   "execution_count": 1,
   "metadata": {},
   "outputs": [
    {
     "name": "stderr",
     "output_type": "stream",
     "text": [
      "Using TensorFlow backend.\n"
     ]
    }
   ],
   "source": [
    "from utils import helper\n",
    "import matplotlib.pyplot as plt\n",
    "from IPython.display import display, HTML\n",
    "plt.style.use(\"ggplot\")\n",
    "\n",
    "# define macros\n",
    "ORIGINAL_DATA_PATH = '/home/brikerman/Desktop/corpus/殆知阁古代文献藏书/史藏'\n",
    "TARGET_DATA_PATH = '/home/brikerman/Desktop/corpus/daizhige_split/史藏'\n",
    "\n",
    "MAX_SEQUENCE_LENGTH = 100\n",
    "EPOCHS = 5\n",
    "BATCH_SIZE = 200"
   ]
  },
  {
   "cell_type": "markdown",
   "metadata": {
    "collapsed": true
   },
   "source": [
    "## 数据预处理"
   ]
  },
  {
   "cell_type": "markdown",
   "metadata": {},
   "source": [
    "### 提取有标点的数据集\n",
    "\n",
    "原数据没有区分那些数据是有标点，那些数据是没有标点。所以我们的第一部是区分有标点和没有标点的数据集。\n",
    "目前这里采取了很简单粗暴的方案，看一篇文章中汉字和标点的比例，即 标点符号数量 / (汉字数量 + 标点符号数量) 当比例大于 0.1 则判断为有标点符号。"
   ]
  },
  {
   "cell_type": "code",
   "execution_count": 2,
   "metadata": {},
   "outputs": [
    {
     "name": "stderr",
     "output_type": "stream",
     "text": [
      "generating file info: 100%|██████████| 2043/2043 [02:18<00:00, 14.78it/s] \n",
      "copying files to /home/brikerman/Desktop/corpus/daizhige_split/史藏/marked: 100%|██████████| 1313/1313 [00:00<00:00, 2823.02it/s]\n",
      "copying files to /home/brikerman/Desktop/corpus/daizhige_split/史藏/unmarked: 100%|██████████| 730/730 [00:00<00:00, 1682.21it/s]\n"
     ]
    }
   ],
   "source": [
    "from utils import split_data\n",
    "split_data.split_marked_unmarked_files(ORIGINAL_DATA_PATH, TARGET_DATA_PATH)"
   ]
  },
  {
   "cell_type": "code",
   "execution_count": null,
   "metadata": {},
   "outputs": [],
   "source": [
    "# 读取文件信息 csv 并展示\n",
    "import pandas as pd\n",
    "df = pd.read_csv('./file_info.csv')\n",
    "display(HTML(df.to_html()))"
   ]
  },
  {
   "cell_type": "markdown",
   "metadata": {},
   "source": [
    "### 数据 token 化\n",
    "\n",
    "这里我自己写了个 Tokenizer，支持直接 tokenize 数据或者利用预训练的词向量模型，关于如何预训练词向量我晚些时候补上。"
   ]
  },
  {
   "cell_type": "code",
   "execution_count": 2,
   "metadata": {},
   "outputs": [],
   "source": [
    "import os\n",
    "from utils.tokenizer import Tokenizer\n",
    "\n",
    "# 构建 tokenizer，只需要构建一次\n",
    "tokenizer = Tokenizer()\n",
    "tokenizer.build(corpus_path=ORIGINAL_DATA_PATH, tokenizer_path='./data/embedding/')\n",
    "\n",
    "# 加载 tokenizer 数据\n",
    "tokenizer.load('./data/embedding/')"
   ]
  },
  {
   "cell_type": "code",
   "execution_count": 4,
   "metadata": {},
   "outputs": [
    {
     "name": "stderr",
     "output_type": "stream",
     "text": [
      "processing files: 100%|██████████| 1313/1313 [02:20<00:00,  9.32it/s]"
     ]
    },
    {
     "name": "stdout",
     "output_type": "stream",
     "text": [
      "-------- tokenize data finished --------\n",
      "dataset path : /home/brikerman/Desktop/classic_chinese_punctuate/data/dataset.h5\n",
      "sample x     : [   1   90  324  261  103   60   21   13  120  118   73  131  159   16\n",
      "  943  586 1698   36   13   23  118  103  131   21   60  134  167 2191\n",
      " 1162   13  120  118   21  131  103   60  134  159   24  135   99   35\n",
      " 3609 1704   41  535  798    2    0    0    0    0    0    0    0    0\n",
      "    0    0    0    0    0    0    0    0    0    0    0    0    0    0\n",
      "    0    0    0    0    0    0    0    0    0    0    0    0    0    0\n",
      "    0    0    0    0    0    0    0    0    0    0    0    0    0    0\n",
      "    0    0]\n",
      "sample y     : [1 1 1 1 1 1 1 1 1 1 1 1 1 1 3 1 1 1 1 1 1 1 1 1 1 1 3 1 1 1 1 1 1 1 1 1 1\n",
      " 3 1 1 1 1 1 1 1 1 3 1 0 0 0 0 0 0 0 0 0 0 0 0 0 0 0 0 0 0 0 0 0 0 0 0 0 0\n",
      " 0 0 0 0 0 0 0 0 0 0 0 0 0 0 0 0 0 0 0 0 0 0 0 0 0 0]\n",
      "----------------------------------------\n"
     ]
    },
    {
     "name": "stderr",
     "output_type": "stream",
     "text": [
      "\n"
     ]
    }
   ],
   "source": [
    "# token 化数据\n",
    "marked_file_path = os.path.join(TARGET_DATA_PATH, 'marked')\n",
    "tokenizer.max_length = MAX_SEQUENCE_LENGTH\n",
    "files_info = tokenizer.tokenize_files(files_path=marked_file_path,\n",
    "                                      data_path='./data')"
   ]
  },
  {
   "cell_type": "markdown",
   "metadata": {},
   "source": [
    "### 简单可视化分析数据长度"
   ]
  },
  {
   "cell_type": "code",
   "execution_count": 8,
   "metadata": {},
   "outputs": [
    {
     "data": {
      "image/png": "[encoded data removed]",
      "text/plain": [
       "<Figure size 432x288 with 1 Axes>"
      ]
     },
     "metadata": {
      "needs_background": "light"
     },
     "output_type": "display_data"
    }
   ],
   "source": [
    "plt.hist(files_info['length'], bins=50)\n",
    "plt.show()"
   ]
  },
  {
   "cell_type": "code",
   "execution_count": 9,
   "metadata": {},
   "outputs": [
    {
     "data": {
      "image/png": "[encoded data removed]",
      "text/plain": [
       "<Figure size 432x288 with 1 Axes>"
      ]
     },
     "metadata": {},
     "output_type": "display_data"
    }
   ],
   "source": [
    "import matplotlib.pyplot as plt\n",
    "plt.style.use(\"ggplot\")\n",
    "plt.hist(files_info['length'], bins=50, range=(0, 1000))\n",
    "plt.show()"
   ]
  },
  {
   "cell_type": "markdown",
   "metadata": {},
   "source": [
    "## 构建模型"
   ]
  },
  {
   "cell_type": "code",
   "execution_count": 3,
   "metadata": {},
   "outputs": [
    {
     "name": "stdout",
     "output_type": "stream",
     "text": [
      "embed while training\n",
      "_________________________________________________________________\n",
      "Layer (type)                 Output Shape              Param #   \n",
      "=================================================================\n",
      "embedding_1 (Embedding)      (None, 100, 50)           1062350   \n",
      "_________________________________________________________________\n",
      "bidirectional_1 (Bidirection (None, 100, 512)          628736    \n",
      "_________________________________________________________________\n",
      "dropout_1 (Dropout)          (None, 100, 512)          0         \n",
      "_________________________________________________________________\n",
      "time_distributed_1 (TimeDist (None, 100, 17)           8721      \n",
      "_________________________________________________________________\n",
      "activation_1 (Activation)    (None, 100, 17)           0         \n",
      "=================================================================\n",
      "Total params: 1,699,807\n",
      "Trainable params: 1,699,807\n",
      "Non-trainable params: 0\n",
      "_________________________________________________________________\n"
     ]
    }
   ],
   "source": [
    "from random import random\n",
    "from numpy import array\n",
    "from numpy import cumsum\n",
    "from keras.models import Sequential\n",
    "from keras.layers import Input\n",
    "from keras.layers import Embedding\n",
    "from keras.layers import LSTM\n",
    "from keras.layers import Dense\n",
    "from keras.layers import TimeDistributed\n",
    "from keras.layers import Bidirectional\n",
    "from keras.layers import InputLayer\n",
    "from keras.layers import Dropout\n",
    "from keras.layers import Activation\n",
    "\n",
    "\n",
    "if tokenizer.w2v:\n",
    "    print('use pre embedded embedding layer')\n",
    "    embedding_layer = Embedding(len(tokenizer.w2v.embedding_matrix),\n",
    "                            tokenizer.w2v.embedding_size,\n",
    "                            weights=[tokenizer.w2v.embedding_matrix],\n",
    "                            trainable=False)\n",
    "else:\n",
    "    print('embed while training')\n",
    "    embedding_layer = Embedding(len(tokenizer.word2idx), 50)\n",
    "\n",
    "# custom loss fucntion with weights    \n",
    "loss_f = helper.weighted_categorical_crossentropy(tokenizer.class_weights())\n",
    "\n",
    "model = Sequential()\n",
    "model.add(InputLayer(input_shape=(MAX_SEQUENCE_LENGTH, )))\n",
    "model.add(embedding_layer)\n",
    "model.add(Bidirectional(LSTM(256, return_sequences=True)))\n",
    "model.add(Dropout(0.4))\n",
    "model.add(TimeDistributed(Dense(len(tokenizer.labels2idx))))\n",
    "model.add(Activation('softmax'))\n",
    "model.compile(loss=loss_f,\n",
    "              optimizer = 'adam',\n",
    "              metrics = ['accuracy'])\n",
    "\n",
    "model.summary()"
   ]
  },
  {
   "cell_type": "markdown",
   "metadata": {},
   "source": [
    "### 训练模型"
   ]
  },
  {
   "cell_type": "code",
   "execution_count": null,
   "metadata": {},
   "outputs": [
    {
     "name": "stdout",
     "output_type": "stream",
     "text": [
      "Epoch 1/5\n",
      "4098/7857 [==============>...............] - ETA: 11:48 - loss: 0.2340 - acc: 0.9082"
     ]
    }
   ],
   "source": [
    "import h5py\n",
    "from sklearn.model_selection import train_test_split\n",
    "\n",
    "dataset = h5py.File('./data/dataset.h5', 'r')\n",
    "\n",
    "train_idx, test_idx = train_test_split(range(len(dataset['x'])), test_size=0.15)\n",
    "\n",
    "train_generator = helper.h5f_generator(h5path='./data/dataset.h5',\n",
    "                                       indices=train_idx,\n",
    "                                       label_count=len(tokenizer.labels2idx),\n",
    "                                       batch_size=BATCH_SIZE)\n",
    "\n",
    "test_generator = helper.h5f_generator(h5path='./data/dataset.h5',\n",
    "                                      indices=test_idx,\n",
    "                                      label_count=len(tokenizer.labels2idx),\n",
    "                                      batch_size=BATCH_SIZE)\n",
    "\n",
    "model.fit_generator(train_generator, \n",
    "                    steps_per_epoch=len(train_idx) // BATCH_SIZE,\n",
    "                    epochs=EPOCHS,\n",
    "                    verbose=1,\n",
    "                    callbacks=[],\n",
    "                    validation_data=test_generator,\n",
    "                    validation_steps=len(test_idx) // BATCH_SIZE)\n"
   ]
  },
  {
   "cell_type": "markdown",
   "metadata": {},
   "source": [
    "## 使用模型预测"
   ]
  },
  {
   "cell_type": "code",
   "execution_count": 19,
   "metadata": {},
   "outputs": [
    {
     "name": "stdout",
     "output_type": "stream",
     "text": [
      "余谓拯饥之政富郑公在青州为百世师仿其意而行之在后贤焉。兴赈田。\n"
     ]
    }
   ],
   "source": [
    "for text in [\n",
    "    '余谓拯饥之政富郑公在青州为百世师仿其意而行之在后贤焉兴赈田'\n",
    "]:\n",
    "    r = helper.predict_with_model(tokenizer=tokenizer, model=model, text=text)\n",
    "    print(r)"
   ]
  },
  {
   "cell_type": "code",
   "execution_count": 20,
   "metadata": {},
   "outputs": [
    {
     "name": "stdout",
     "output_type": "stream",
     "text": [
      "input_text: ['余', '谓', '拯', '饥', '之', '政', '富', '郑', '公', '在', '青', '州', '为', '百', '世', '师', '仿', '其', '意', '而', '行', '之', '在', '后', '贤', '焉', '兴', '赈', '田']\n",
      "input_token: [1, 134, 175, 2846, 1306, 7, 211, 787, 606, 71, 42, 596, 29, 11, 60, 183, 201, 2059, 15, 296, 18, 48, 7, 42, 51, 479, 412, 223, 1288, 281, 2]\n",
      "input_x: [[   1  134  175 2846 1306    7  211  787  606   71   42  596   29   11\n",
      "    60  183  201 2059   15  296   18   48    7   42   51  479  412  223\n",
      "  1288  281    2    0    0    0    0    0    0    0    0    0    0    0\n",
      "     0    0    0    0    0    0    0    0    0    0    0    0    0    0\n",
      "     0    0    0    0    0    0    0    0    0    0    0    0    0    0\n",
      "     0    0    0    0    0    0    0    0    0    0    0    0    0    0\n",
      "     0    0    0    0    0    0    0    0    0    0    0    0    0    0\n",
      "     0    0]]\n",
      "predict_result: [[6.6565025e-07 9.9152970e-01 2.3563933e-03 ... 4.9532740e-05\n",
      "  1.9892918e-04 6.9119883e-06]\n",
      " [2.1671069e-05 8.9504457e-01 4.4994164e-02 ... 8.3334872e-04\n",
      "  2.6594815e-03 1.9596718e-04]\n",
      " [4.3262065e-05 9.0358204e-01 2.8679019e-02 ... 9.9682063e-04\n",
      "  3.9902194e-03 2.4469086e-04]\n",
      " ...\n",
      " [9.9752373e-01 1.6097296e-05 5.7103157e-06 ... 2.9180534e-05\n",
      "  5.9340355e-06 1.0583825e-04]\n",
      " [9.9653423e-01 2.3133207e-05 8.9697305e-06 ... 3.6130612e-05\n",
      "  8.2438455e-06 1.5365331e-04]\n",
      " [9.9500811e-01 3.6816597e-05 1.4732249e-05 ... 4.6817964e-05\n",
      "  1.1851884e-05 2.3035052e-04]]\n",
      "predict_idx: [1 1 1 1 1 1 1 1 1 1 1 1 1 1 1 1 1 1 1 1 1 1 1 1 1 1 3 1 1 3 1 1 0 0 0 0 0\n",
      " 0 0 0 0 0 0 0 0 0 0 0 0 0 0 0 0 0 0 0 0 0 0 0 0 0 0 0 0 0 0 0 0 0 0 0 0 0\n",
      " 0 0 0 0 0 0 0 0 0 0 0 0 0 0 0 0 0 0 0 0 0 0 0 0 0 0]\n",
      "labels: ['O', 'O', 'O', 'O', 'O', 'O', 'O', 'O', 'O', 'O', 'O', 'O', 'O', 'O', 'O', 'O', 'O', 'O', 'O', 'O', 'O', 'O', 'O', 'O', 'O', '。', 'O', 'O', '。']\n"
     ]
    }
   ],
   "source": [
    "# detail\n",
    "import keras\n",
    "from keras.preprocessing import sequence\n",
    "\n",
    "\n",
    "text = '余谓拯饥之政富郑公在青州为百世师仿其意而行之在后贤焉兴赈田'\n",
    "# 先对数据进行简单过滤和截断\n",
    "input_text = [i for i in text if helper.chinese_regex.match(i)]\n",
    "input_text = input_text[:tokenizer.max_length-2]\n",
    "print('input_text: {}'.format(input_text))\n",
    "\n",
    "# token 化\n",
    "input_token = tokenizer.tokenize(input_text)\n",
    "print('input_token: {}'.format(input_token))\n",
    "\n",
    "# padding 成为定长序列\n",
    "input_x = keras.preprocessing.sequence.pad_sequences([input_token],\n",
    "                                                         maxlen=tokenizer.max_length,\n",
    "                                                         padding='post')\n",
    "print('input_x: {}'.format(input_x))\n",
    "\n",
    "# model 预测结果，一个 100 * 16 的 one hot 向量\n",
    "predict_result = model.predict(input_x)[0]\n",
    "print('predict_result: {}'.format(predict_result))\n",
    "\n",
    "predict_idx = predict_result.argmax(1)\n",
    "print('predict_idx: {}'.format(predict_idx))\n",
    "\n",
    "labels = tokenizer.label_de_tokenize(predict_idx, length=len(input_text))\n",
    "print('labels: {}'.format(labels))"
   ]
  }
 ],
 "metadata": {
  "kernelspec": {
   "display_name": "Python 3",
   "language": "python",
   "name": "python3"
  },
  "language_info": {
   "codemirror_mode": {
    "name": "ipython",
    "version": 3
   },
   "file_extension": ".py",
   "mimetype": "text/x-python",
   "name": "python",
   "nbconvert_exporter": "python",
   "pygments_lexer": "ipython3",
   "version": "3.6.4"
  }
 },
 "nbformat": 4,
 "nbformat_minor": 1
}
